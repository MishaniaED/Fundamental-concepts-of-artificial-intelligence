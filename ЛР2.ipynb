{
  "nbformat": 4,
  "nbformat_minor": 0,
  "metadata": {
    "colab": {
      "provenance": []
    },
    "kernelspec": {
      "name": "python3",
      "display_name": "Python 3"
    },
    "language_info": {
      "name": "python"
    }
  },
  "cells": [
    {
      "cell_type": "markdown",
      "source": [
        "**ТЗ к Лабораторной работе №2:**\n",
        "\n",
        "В Pygmo запрогроммировать две своих тестовых функции и найти их оптимум 3 разными алгоритмами доступными в библиотеке и получить таблицу сравнения"
      ],
      "metadata": {
        "id": "MzsRYMrMEi4s"
      }
    },
    {
      "cell_type": "code",
      "execution_count": null,
      "metadata": {
        "colab": {
          "base_uri": "https://localhost:8080/"
        },
        "id": "HqJl4G1Hrszt",
        "outputId": "221041b7-7c6a-423f-8419-7733cba4f27d"
      },
      "outputs": [
        {
          "output_type": "stream",
          "name": "stdout",
          "text": [
            "Collecting pygmo\n",
            "  Downloading pygmo-2.19.5-cp310-cp310-manylinux_2_28_x86_64.whl (14.7 MB)\n",
            "\u001b[2K     \u001b[90m━━━━━━━━━━━━━━━━━━━━━━━━━━━━━━━━━━━━━━━━\u001b[0m \u001b[32m14.7/14.7 MB\u001b[0m \u001b[31m19.4 MB/s\u001b[0m eta \u001b[36m0:00:00\u001b[0m\n",
            "\u001b[?25hRequirement already satisfied: numpy in /usr/local/lib/python3.10/dist-packages (from pygmo) (1.23.5)\n",
            "Requirement already satisfied: cloudpickle in /usr/local/lib/python3.10/dist-packages (from pygmo) (2.2.1)\n",
            "Requirement already satisfied: scipy in /usr/local/lib/python3.10/dist-packages (from pygmo) (1.11.4)\n",
            "Installing collected packages: pygmo\n",
            "Successfully installed pygmo-2.19.5\n"
          ]
        }
      ],
      "source": [
        "pip install pygmo"
      ]
    },
    {
      "cell_type": "code",
      "source": [
        "import numpy as np\n",
        "import pygmo as pg\n",
        "\n",
        "class Himmelblau:\n",
        "    def __init__(self):\n",
        "        self.prob = pg.problem(self)\n",
        "\n",
        "    def fitness(self, x):\n",
        "        return [(x[0] * x[0] + x[1] - 11) ** 2 + (x[0] + x[1] * x[1] - 7) ** 2]\n",
        "\n",
        "    def get_bounds(self):\n",
        "        return ([-6, -6], [6, 6])\n",
        "\n",
        "    def get_min(self):\n",
        "        return [3., 2., 0.]\n",
        "\n",
        "class Rosenbrock:\n",
        "    def __init__(self):\n",
        "        self.prob = pg.problem(self)\n",
        "\n",
        "    def fitness(self, x):\n",
        "        return [sum(100.0 * (x[1:] - x[:-1]**2)**2 + (1 - x[:-1])**2)]\n",
        "\n",
        "    def get_bounds(self):\n",
        "        return ([-3, -3], [3, 10])\n",
        "\n",
        "    def get_min(self):\n",
        "        return [1., 1., 0.]"
      ],
      "metadata": {
        "id": "Wxes-yv3r92K"
      },
      "execution_count": null,
      "outputs": []
    },
    {
      "cell_type": "code",
      "source": [
        "# Создание экземпляров задач оптимизации\n",
        "himmelblau_problem = Himmelblau().prob\n",
        "rosenbrock_problem = Rosenbrock().prob\n",
        "\n",
        "# Создание экземпляров алгоритмов оптимизации\n",
        "algorithm_1 = pg.algorithm(pg.de(gen=100))\n",
        "algorithm_2 = pg.algorithm(pg.pso(gen=100))\n",
        "algorithm_3 = pg.algorithm(pg.cmaes(gen=100))\n",
        "\n",
        "# Создание популяции для задачи Химельблау\n",
        "himmelblau_pop_1 = pg.population(prob=himmelblau_problem, size=10)  # Увеличиваем размер популяции\n",
        "himmelblau_pop_2 = pg.population(prob=himmelblau_problem, size=10)\n",
        "himmelblau_pop_3 = pg.population(prob=himmelblau_problem, size=10)\n",
        "\n",
        "# Создание популяции для задачи Розенброка\n",
        "rosenbrock_pop_1 = pg.population(prob=rosenbrock_problem, size=10)  # Увеличиваем размер популяции\n",
        "rosenbrock_pop_2 = pg.population(prob=rosenbrock_problem, size=10)\n",
        "rosenbrock_pop_3 = pg.population(prob=rosenbrock_problem, size=10)\n",
        "\n",
        "\n",
        "himmelblau_pop_1 = algorithm_1.evolve(himmelblau_pop_1)\n",
        "himmelblau_pop_2 = algorithm_2.evolve(himmelblau_pop_2)\n",
        "himmelblau_pop_3 = algorithm_3.evolve(himmelblau_pop_3)\n",
        "\n",
        "rosenbrock_pop_1 = algorithm_1.evolve(rosenbrock_pop_1)\n",
        "rosenbrock_pop_2 = algorithm_2.evolve(rosenbrock_pop_2)\n",
        "rosenbrock_pop_3 = algorithm_3.evolve(rosenbrock_pop_3)"
      ],
      "metadata": {
        "id": "Aue8EdE4srSb"
      },
      "execution_count": null,
      "outputs": []
    },
    {
      "cell_type": "code",
      "source": [
        "import pandas as pd\n",
        "\n",
        "# Извлечение результатов для задачи Химельблау\n",
        "himmelblau_results = {\n",
        "    'Algorithm': ['DE', 'PSO', 'CMA-ES'],\n",
        "    'Min Value': [himmelblau_pop_1.champion_f[0], himmelblau_pop_2.champion_f[0], himmelblau_pop_3.champion_f[0]],\n",
        "}\n",
        "\n",
        "# Извлечение результатов для задачи Розенброка\n",
        "rosenbrock_results = {\n",
        "    'Algorithm': ['DE', 'PSO', 'CMA-ES'],\n",
        "    'Min Value': [rosenbrock_pop_1.champion_f[0], rosenbrock_pop_2.champion_f[0], rosenbrock_pop_3.champion_f[0]],\n",
        "}\n",
        "\n",
        "# Создание таблиц\n",
        "himmelblau_df = pd.DataFrame(himmelblau_results)\n",
        "rosenbrock_df = pd.DataFrame(rosenbrock_results)\n",
        "\n",
        "# Вывод таблиц\n",
        "print(\"Results for Himmelblau Function:\")\n",
        "print(himmelblau_df)\n",
        "\n",
        "print(\"\\nResults for Rosenbrock Function:\")\n",
        "print(rosenbrock_df)\n"
      ],
      "metadata": {
        "id": "_QjFaCb4tB8k",
        "colab": {
          "base_uri": "https://localhost:8080/"
        },
        "outputId": "26e0b41e-f044-4889-a893-caf68d2be483"
      },
      "execution_count": null,
      "outputs": [
        {
          "output_type": "stream",
          "name": "stdout",
          "text": [
            "Results for Himmelblau Function:\n",
            "  Algorithm     Min Value\n",
            "0        DE  2.865454e-08\n",
            "1       PSO  2.413489e-07\n",
            "2    CMA-ES  4.971819e-10\n",
            "\n",
            "Results for Rosenbrock Function:\n",
            "  Algorithm     Min Value\n",
            "0        DE  3.372920e-08\n",
            "1       PSO  6.188499e-01\n",
            "2    CMA-ES  9.045289e-09\n"
          ]
        }
      ]
    },
    {
      "cell_type": "code",
      "source": [],
      "metadata": {
        "id": "j9LH1KC6ze-P"
      },
      "execution_count": null,
      "outputs": []
    }
  ]
}